{
 "metadata": {
  "name": "",
  "signature": "sha256:a94ae315b87ba0584aebd1b6e1d49b53ba855a916be53d98d59bf008d8819a85"
 },
 "nbformat": 3,
 "nbformat_minor": 0,
 "worksheets": [
  {
   "cells": [
    {
     "cell_type": "markdown",
     "metadata": {},
     "source": [
      "# About this script\n",
      "\n",
      "This script is built to iterate across a directory and create a CSV timeline.\n",
      "\n",
      "Using this iPython Notebook, you will be able to run the code in this webpage while following along with the tutorial.\n",
      "\n",
      "Lets begin at the start of the script!\n",
      "\n"
     ]
    },
    {
     "cell_type": "markdown",
     "metadata": {},
     "source": [
      "# Starting a script\n",
      "\n",
      "Every script should begin with the author's name, date, license, and small description. \n",
      "\n",
      "This information can be assigned to variables or in a comment block, either are sufficent.\n",
      "\n",
      "If you plan on releasing several versions of the code, initializing a variable named version can be useful as well.\n"
     ]
    },
    {
     "cell_type": "code",
     "collapsed": false,
     "input": [
      "__author__ = 'Chapin Bryce'\n",
      "__date__ = 20150322\n",
      "__version__ = 0\n",
      "__license__ = 'GPLv2'"
     ],
     "language": "python",
     "metadata": {},
     "outputs": [],
     "prompt_number": 2
    },
    {
     "cell_type": "markdown",
     "metadata": {},
     "source": [
      "Great, our header is complete! Let's move on to starting the code.\n",
      "\n",
      "To begin here, we should import libraries we will likely use. Though it does not make a big difference, importing only needed libraries is a great habit and can help reduce clutter that can cause more errors down the road. \n",
      "\n",
      "For this script (creating a timeline) we should only need the `os` library for now. \n",
      "\n",
      "The os library is a standard library, meaning it is released with every installation of Python and available to all users. For the most part, it is standardized across versions as well, meaning that Python 2 and 3 should be able to run the same features. In addition, being a standardized library means that it has full documentation on Python's website. Though it may seem a bit cryptic at first, you will find it is usually better than 3rd party library documentation...I digress.\n",
      "\n",
      "Lets import the `os` library:"
     ]
    },
    {
     "cell_type": "code",
     "collapsed": false,
     "input": [
      "import os"
     ],
     "language": "python",
     "metadata": {},
     "outputs": [],
     "prompt_number": 6
    },
    {
     "cell_type": "markdown",
     "metadata": {},
     "source": [
      "# Interracting with Files\n",
      "\n",
      "Wasn't that easy - well lets step it up a little without the additional tangents.\n",
      "\n",
      "Lets begin with a sample file to use as test data. \n",
      "\n",
      "If the setup was completed successfully, in your document's folder, there should be a folder named `IPython Notebooks/data`. Inside this directory should be `1.txt`, a small text file. We will be using this text file as sample data for now, so ensure you have it installed at that location.\n",
      "\n",
      "**In this code block we are going to perform a few steps at once:**\n",
      "\n",
      "0. We will tell Python our username\n",
      "1. Python will take our user name and plug it into the pre-made path to the file\n",
      "2. We are going to have Python check if it exists at the path it determined and print True or Flase\n",
      "3. If it does exist, we will have Python tell us the file's size, if it doesnt exist it will print `Sorry, we could not find the file`\n",
      "\n",
      "\n",
      "**Things to note:**\n",
      "\n",
      "- the variable name `file` is reserved and should not be used"
     ]
    },
    {
     "cell_type": "code",
     "collapsed": false,
     "input": [
      "username = '' # Enter your username here as it appears in `c:/users/`\n",
      "file_of_interest = 'C:\\\\Users\\\\' + username + '\\\\Documents\\\\IPython Notebooks\\\\data\\\\1.txt'\n",
      "\n",
      "it_does_exist =  os.path.exists(file_of_interest)\n",
      "\n",
      "print it_does_exist\n",
      "\n",
      "if it_does_exist:\n",
      "    size = os.path.getsize(file_of_interest)\n",
      "else:\n",
      "    size = 'Sorry we could not find the file'\n",
      "\n",
      "print size\n"
     ],
     "language": "python",
     "metadata": {},
     "outputs": [
      {
       "output_type": "stream",
       "stream": "stdout",
       "text": [
        "False\n",
        "Sorry we could not find the file\n"
       ]
      }
     ],
     "prompt_number": 22
    },
    {
     "cell_type": "markdown",
     "metadata": {},
     "source": [
      "## Let's take a closer look at File Metadata\n",
      "\n",
      "Forensic examiners are obsessed with metadata, and rightfully so. There is a great deal of information available that many users who we investigate forget about and ~~we get to use it against them~~ we are able to leverage it in determining what happened. \n",
      "\n",
      "In a timeline, metadata can be an important asset in determining the importance of a file. So let's take a look at a few basic metadata fields that are quite valuable. \n",
      "\n",
      "#### File Name\n",
      "\n",
      "This seems quite simple, and is. Though it is important in a timeline to have a field with a seperate column for the file name so that it can be sorted on or used for easier detection.\n",
      "\n",
      "#### File Path\n",
      "\n",
      "Once again, this is another simple concept, though knowing the full file path is key in a preservation and analysis point of view.\n",
      "\n",
      "#### File Size\n",
      "\n",
      "We already know how to get this data!\n",
      "\n",
      "#### MAC Times\n",
      "\n",
      "Ah something a little more complex - right? Not really! This is also easy to acquire and format. We will use the `datetime` library to format the dates, as it is also a standard library. There are great 3rd party libraries that do better date formatting (like `python-dateutil`) but we will stick with less dependecy on new libraries for now\n",
      "\n"
     ]
    },
    {
     "cell_type": "code",
     "collapsed": false,
     "input": [
      "# File name\n",
      "file_name = os.path.basename(file_of_interest)\n",
      "\n",
      "print \"File Name:\\t\" + file_name\n",
      "\n",
      "# File Path\n",
      "file_path = os.path.abspath(file_of_interest)\n",
      "\n",
      "print 'File Path:\\t' + file_path\n",
      "\n",
      "# File Size - Add this in yourself (reference the previous example)\n",
      "##\n",
      "# TODO add in the code to get the file size\n",
      "##\n",
      "\n",
      "print 'File Size:\\t' + file_size\n",
      "\n",
      "# File Dates and Times\n",
      "import datetime\n",
      "\n",
      "# Setup formatting of retrieved dates in MM/DD/YYYY HH:MM:SS (ie. 03/02/2015 05:33:45)\n",
      "##\n",
      "# TODO Use the link below to add ` AM/PM` to the format \n",
      "# https://docs.python.org/2/library/datetime.html#strftime-and-strptime-behavior\n",
      "##\n",
      "date_format = '%m/%d/%Y %I:%M:$S'\n",
      "\n",
      "modified_time_raw = os.path.getmtime(file_of_interest)\n",
      "accessed_time_raw = os.path.getatime(file_of_interest)\n",
      "created_time_raw = os.path.getctime(file_of_interest)\n",
      "\n",
      "# Now we will convert the strings into the formatted dates\n",
      "# The datetime.datetime.fromtimestamp() is a function that reads an integer and converts it into a 'best guess' timestamp. \n",
      "modified_time_converted = datetime.datetime.fromtimestamp(modified_time_raw)\n",
      "# Since the returned timestamp is now read by python, we need to tell it what format we would like to read it in. \n",
      "# To do this we will use the date_format that we specified earlier within the Strife Time or `strftime()` function to change \n",
      "# it to the correct format\n",
      "modified_time = modified_time_converted.strftime(date_format)\n",
      "\n",
      "##\n",
      "# TODO Add in created and accessed times\n",
      "##\n",
      "\n",
      "print 'Modified Time:\\t' + modified_time\n",
      "##\n",
      "# TODO Add in created and accessed times\n",
      "##\n",
      "\n"
     ],
     "language": "python",
     "metadata": {},
     "outputs": []
    },
    {
     "cell_type": "markdown",
     "metadata": {},
     "source": [
      "### Outputting the data\n",
      "\n",
      "Now that we have collected the data, let's start by creating some output for an examiner to read!\n",
      "\n",
      "Though we can display information in the command prompt using print, it can be a pain to read. The purpose of using python is to increase the usability of the data, so let's do that.\n",
      "\n",
      "A CSV document is litterally comma seperated values, meaning we can draft this easily. To do this, we need to open a new file for output and write to it. This is also very easy in python.\n"
     ]
    },
    {
     "cell_type": "code",
     "collapsed": false,
     "input": [
      "# We will write to 'data/report.csv' and the mode is 'w' or write. \n",
      "# For more IO modes, checkout https://docs.python.org/2/tutorial/inputoutput.html\n",
      "file_out = open('data/report.csv', 'w')\n",
      "\n",
      "##\n",
      "# TODO add the remaining column names as a comma-seperated list.\n",
      "#  The columns shoudl be ordered: Name, Size, M, A, C, Path\n",
      "## \n",
      "columns = 'File Name, File Size,'\n",
      "\n",
      "# Lets write the columns as our first line\n",
      "file_out.write(columns)\n",
      "\n",
      "# Now let's gather the collected data into a single line, following the order of the columnes\n",
      "\n",
      "##\n",
      "# TODO Complete the line with the data ordered to match the columns\n",
      "##\n",
      "\n",
      "line = file_name + ',' + file_size + ','\n",
      "\n",
      "##\n",
      "# TODO Write the line to the file\n",
      "##\n",
      "\n",
      "\n",
      "\n",
      "# Now that the line is written to the file, lets close the file so we can save it and open it with Excel\n",
      "file_out.close()\n",
      "\n"
     ],
     "language": "python",
     "metadata": {},
     "outputs": []
    },
    {
     "cell_type": "markdown",
     "metadata": {},
     "source": [
      "Go ahead and open the file in Excel now!\n",
      "\n",
      "Good Work! But we are not done\n",
      "\n",
      "A timeline of 1 file is not very useful - right? So lets make one that crawls through a directory to give us a file listing!\n"
     ]
    },
    {
     "cell_type": "markdown",
     "metadata": {},
     "source": [
      "## Recursing through files\n",
      "\n",
      "Once again, the `os` library comes in handy with it's walk function. Walking allows us to explore a subdirectory and access all of the files and directories within it!\n",
      "\n",
      "This can get confusing quickly, so we are going to take it slow to start...\n",
      "\n",
      "1. Declare the path we wish to recurse through\n",
      "2. Use the `os.walk()` function to iterate through and handle the file recursion for us\n",
      "3. Us a `for` loop to interpret the data returned from `os.walk()`\n",
      "  - This function returns 3 elements for us to work with\n",
      "    - `root`: the absolute file path to the current directory being explored\n",
      "    - `directories_in_root`: a list of directories found at the current root\n",
      "    - `files_in_root`: a list of files found at the current root"
     ]
    },
    {
     "cell_type": "code",
     "collapsed": false,
     "input": [
      "import os\n",
      "\n",
      "# We are initializing a list variable so we can store information about each file we recurse through.\n",
      "file_list = list()\n",
      "\n",
      "username = 'cbryce' # Add in your username to set the proper directory for now\n",
      "\n",
      "# Notice the `//`, this is because, as seen earlier with `\\t` the `\\` character is used to mark special items in strings.\n",
      "# To use a litteral `\\` we must escape it, using `\\`, resulting in `\\\\`\n",
      "\n",
      "rpath = 'C:\\\\Users\\\\'+username+'\\\\Documents\\\\IPython Notebooks'\n",
      "\n",
      "# The below `for` statement is used to iterrate through data. In this case, the for statement is iterrating through data that is returned\n",
      "# from the use of the `os.walk()` function. \n",
      "\n",
      "# Another note: \n",
      "# The tabs in python are very important, ensure that all actions you wish to occur within the loop are visually indented to show!\n",
      "for root, directories_in_root, files_in_root in os.walk(rpath):\n",
      "    # Now we are inside the current root directory. \n",
      "    # Inside this we have a list of Directories and a list of files (like a normal explorer view)\n",
      "    \n",
      "    # To iterate through the list of files, we have to use another `for` loop\n",
      "    for file_entry in files_in_root:\n",
      "        # Here we are able to look into each file individually\n",
      "        # At this point we can do whatever we want to the individual file and ensure the same process \n",
      "        # happens to all files in all subdirectories\n",
      "        \n",
      "        print 'File Name: ' + file_entry  # This prints the file name only\n",
      "        print 'File Root: ' + root  # The path to the root entry\n",
      "        print 'File Path: ' + os.path.join(root, file_entry)  # This also prints the full path and is a *better* way to join file paths\n",
      "        print '-----------------------'\n",
      "        # Using the list we initialized earlier, lets add the data we gathered to it\n",
      "        file_list.append(file_entry)\n",
      "        \n",
      "# Now let's take a look at the list we made\n",
      "print \"File List:\", file_list            \n",
      "\n",
      "# Finally, lets use a for loop to modify the information from the list\n",
      "for entry in file_list:\n",
      "    print 'Collected Entry: ' + entry"
     ],
     "language": "python",
     "metadata": {},
     "outputs": [
      {
       "output_type": "stream",
       "stream": "stdout",
       "text": [
        "File Name: Timelining.ipynb\n",
        "File Root: C:\\Users\\cbryce\\Documents\\IPython Notebooks\n",
        "File Path: C:\\Users\\cbryce\\Documents\\IPython Notebooks\\Timelining.ipynb\n",
        "-----------------------\n",
        "File Name: Timelining-checkpoint.ipynb\n",
        "File Root: C:\\Users\\cbryce\\Documents\\IPython Notebooks\\.ipynb_checkpoints\n",
        "File Path: C:\\Users\\cbryce\\Documents\\IPython Notebooks\\.ipynb_checkpoints\\Timelining-checkpoint.ipynb\n",
        "-----------------------\n",
        "File Name: 1.txt\n",
        "File Root: C:\\Users\\cbryce\\Documents\\IPython Notebooks\\data\n",
        "File Path: C:\\Users\\cbryce\\Documents\\IPython Notebooks\\data\\1.txt\n",
        "-----------------------\n",
        "File Name: ls_out.csv\n",
        "File Root: C:\\Users\\cbryce\\Documents\\IPython Notebooks\\data\n",
        "File Path: C:\\Users\\cbryce\\Documents\\IPython Notebooks\\data\\ls_out.csv\n",
        "-----------------------\n",
        "File Name: ls_out.csv_new\n",
        "File Root: C:\\Users\\cbryce\\Documents\\IPython Notebooks\\data\n",
        "File Path: C:\\Users\\cbryce\\Documents\\IPython Notebooks\\data\\ls_out.csv_new\n",
        "-----------------------\n",
        "File List: ['Timelining.ipynb', 'Timelining-checkpoint.ipynb', '1.txt', 'ls_out.csv', 'ls_out.csv_new']\n",
        "Collected Entry: Timelining.ipynb\n",
        "Collected Entry: Timelining-checkpoint.ipynb\n",
        "Collected Entry: 1.txt\n",
        "Collected Entry: ls_out.csv\n",
        "Collected Entry: ls_out.csv_new\n"
       ]
      }
     ],
     "prompt_number": 33
    },
    {
     "cell_type": "markdown",
     "metadata": {},
     "source": [
      "# Putting it all together - Making a timeline script!\n",
      "\n",
      "Here we go - we are about to put all of this information together into a single script to create a SUPER TIMELINE!\n",
      "\n",
      "I know there are a lot of steps below, but take them 1 at a time!\n",
      "\n",
      "In the below code block:\n",
      "\n",
      "0. Pick a path to recurse over and create an empty list\n",
      "1. add in the recursion for that path using a `for` loop and `os.walk()` as highlighted above\n",
      "2. within the loop, add the file metadata code from earlier\n",
      "  - write this data into a comma seperated string\n",
      "  - Append this string of data into a list\n",
      "3. after the loop completes, setup an output file to write to\n",
      "4. write the column names as a comma seperated string to the outputted file\n",
      "5. start a for loop that iterated through the list\n",
      "  - for each string in the list, write it to the output file\n",
      "6. close the file in Python\n",
      "7. Open the file in Excel! Good Job!"
     ]
    },
    {
     "cell_type": "code",
     "collapsed": false,
     "input": [
      "## Put your code in here! Good luck and take it 1 step at a time!\n",
      "\n",
      "\n"
     ],
     "language": "python",
     "metadata": {},
     "outputs": []
    }
   ],
   "metadata": {}
  }
 ]
}