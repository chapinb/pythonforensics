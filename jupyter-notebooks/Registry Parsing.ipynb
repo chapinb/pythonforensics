{
 "cells": [
  {
   "cell_type": "markdown",
   "metadata": {},
   "source": [
    "# Python & Windows Registry\n",
    "\n",
    "As we know - the Windows Registry has a plethora of information useful to our investigations. In this notebook, we will discover how we can navigate through the Registry using the `python-registry` module ([GitHub Project](https://github.com/williballenthin/python-registry)).\n",
    "\n",
    "This library is called python-registry and can be found by searching [pypi python-registry](https://pypi.org/project/python-registry/) and installed on the commandline by typing `pip install python-registry`. *We can also install this using `pip install -r requirements.py3.txt`*"
   ]
  },
  {
   "cell_type": "markdown",
   "metadata": {},
   "source": [
    "# Registry Structure\n",
    "\n",
    "Registry hives have a defined structure which makes them fun to parse. As a refresher on terminology, the registry file itself is called a hive. A quick refresher on terminology:\n",
    "- Each hive starts at the root key, which stores keys and values; \n",
    "- Each key holds one or more sub-key or value;\n",
    "- Each value holds data for use by the operating system or application, though cannot hold a key.\n",
    "\n",
    "With this, lets talk about how we will interact with our hives in this library:\n"
   ]
  },
  {
   "cell_type": "markdown",
   "metadata": {},
   "source": [
    "## Hive Object\n",
    "\n",
    "To access the hive contents, we will need to import the `Registry` module from the `python-registry` library and open our file. With the hive open, we can further gather details about the hive file as shown below."
   ]
  },
  {
   "cell_type": "code",
   "execution_count": null,
   "metadata": {},
   "outputs": [],
   "source": [
    "from Registry import Registry\n",
    "from Registry.RegistryParse import ParseException\n",
    "\n",
    "path_to_reg_hive = '../data/system'  # The included SYSTEM hive file\n",
    "hive = Registry.Registry(path_to_reg_hive)\n",
    "\n",
    "print(type(hive))\n",
    "print(\"Hive Name: \", hive.hive_name())\n",
    "print(\"Hive Type: \", hive.hive_type())\n",
    "\n",
    "# We can also open the hive directly to a key\n",
    "select_key = hive.open('Select')\n",
    "print(\"Select key path: \", select_key.path())"
   ]
  },
  {
   "cell_type": "markdown",
   "metadata": {},
   "source": [
    "## Root Object\n",
    "\n",
    "To access the root object of the hive, we can call the `.root()` method. Notice that the root object returned is type `RegistryKey`. For this reason, it will have some generic key object properties (further detailed below) though not all of them will work with the root key. For example, calling the `parent()` method of the root key will raise a `ParseException`, and more specifically `RegistryKeyHasNoParentException`, error."
   ]
  },
  {
   "cell_type": "code",
   "execution_count": null,
   "metadata": {},
   "outputs": [],
   "source": [
    "root = hive.root()\n",
    "\n",
    "print(type(root))\n",
    "print(\"Root name: \", root.name())\n",
    "print(\"Root last written: \", root.timestamp())\n",
    "print(\"Root path: \", root.path())\n",
    "print(\"Root # of subkeys: \", root.subkeys_number())\n",
    "print(\"Root # of values: \", root.values_number())\n",
    "\n",
    "def iter_keys(iter_key):\n",
    "    if iter_key.subkeys_number() != 0:  # We can repeat this for values\n",
    "        key_names = [x.name() for x in iter_key.subkeys()]\n",
    "        print(\"Subkey names: {}\".format(\", \".join(key_names)))\n",
    "iter_keys(root)\n",
    "\n",
    "try:\n",
    "    root_parent = root.parent()\n",
    "except (ParseException, Registry.RegistryKeyHasNoParentException):\n",
    "    print(\"Parent of {} not available\".format(root.name()))"
   ]
  },
  {
   "cell_type": "markdown",
   "metadata": {},
   "source": [
    "## Key Objects\n",
    "\n",
    "Since a key can contain keys or values anything could be inside of it. This library handles this by allowing any value or key to be called from a key object by using `.value('name of value')` to return a value by name or `.subkey('name of key')` to return a key by name. To get all of the available values, run `.values()` against the key object, and for the available subkeys, run `.subkeys()`. Both of these methods will return a list of value/key objects to then interract with further."
   ]
  },
  {
   "cell_type": "code",
   "execution_count": null,
   "metadata": {},
   "outputs": [],
   "source": [
    "# .find_key() allows us to get a specific value \n",
    "#   using the full key's path. Starts at root \n",
    "#   of the hive, no leading slash\n",
    "key = root.find_key('Select')  \n",
    "print(\"Key name: \", key.name())\n",
    "print(\"Key last written: \", key.timestamp())\n",
    "print(\"Key path: \", key.path())\n",
    "print(\"Key # of subkeys: \", key.subkeys_number())\n",
    "print(\"Key # of values: \", key.values_number())\n",
    "\n",
    "# We can access values by name\n",
    "print(\"Last known good control set: \", \n",
    "      key.value('LastKnownGood').value())\n",
    "\n",
    "# We can iterate over values\n",
    "def iter_values(iter_key):\n",
    "    if iter_key.values_number() != 0:  \n",
    "        value_names = {x.name(): x.value() for x in iter_key.values()}\n",
    "        print(\"{} key values:\".format(iter_key.path()))\n",
    "        for name, value in value_names.items():\n",
    "            print(\"\\t{}: {}\".format(name, value))\n",
    "\n",
    "iter_values(key)"
   ]
  },
  {
   "cell_type": "markdown",
   "metadata": {},
   "source": [
    "## Value Objects\n",
    "\n",
    "These objects represent the values within the keys, which we can request by name or iterator. The data within a value can come in several data types, including int, str, hex, bin, unicode, and more. We can use the `.value_type()` method to get an indication of how the value is stored by in the Registry and help us predict how we should interpret it.\n",
    "\n",
    "Running through the below example, we can clearly see how one can iterate over a key and pull out just the details you need (ie USB device friendly names)."
   ]
  },
  {
   "cell_type": "code",
   "execution_count": null,
   "metadata": {},
   "outputs": [],
   "source": [
    "key = root.find_key(\"Select\")\n",
    "ccs = key.value(\"current\")\n",
    "print(\"Select Value Name: \", ccs.name())\n",
    "print(\"Current Control Set Value: \", ccs.value())\n",
    "print(\"Value type (int): \", ccs.value_type())\n",
    "print(\"Value type (str): \", ccs.value_type_str())\n",
    "\n",
    "# Lets use a more complex key, now that we know the current control set\n",
    "key = root.find_key(r\"ControlSet{:03d}\\Enum\\USBSTOR\".format(ccs.value()))\n",
    "if key.subkeys_number() != 0:\n",
    "    \n",
    "    # We will use the first device as an example\n",
    "    device0 = key.subkeys()[0]\n",
    "    print(\"Device: \", device0.name().replace(\"&\", \" \"))\n",
    "    if device0.subkeys_number() != 0:\n",
    "        \n",
    "        # Let's display the first device's UID & Friendly name as an example\n",
    "        uid0 = device0.subkeys()[0]\n",
    "        print(\"\\tUID: \", uid0.name())\n",
    "        friendly_name = uid0.value('FriendlyName')\n",
    "        print(\"\\tFriendly Name ({}): {}\".format(\n",
    "              friendly_name.value_type_str(), friendly_name.value()))"
   ]
  },
  {
   "cell_type": "markdown",
   "metadata": {},
   "source": [
    "# The System Hive Sandbox\n",
    "\n",
    "So now that we have the basics down, lets do something more with the system hive! One basic task (shown below) is to account for the information different between your ControlSets. The below is a (very simple) example of this, though if there are a significant number of changes, we'd want to clean up the output format and find a way that we can search it efficiently."
   ]
  },
  {
   "cell_type": "code",
   "execution_count": null,
   "metadata": {},
   "outputs": [],
   "source": [
    "path_to_reg_hive = '../data/system'\n",
    "hive = Registry.Registry(path_to_reg_hive)\n",
    "\n",
    "select = hive.open('Select')\n",
    "\n",
    "# Open both\n",
    "ccs = hive.open(r'ControlSet{:03d}\\Enum\\USB'.format(select.value(\"Current\").value())) \n",
    "lastknown = hive.open(r'ControlSet{:03d}\\Enum\\USB'.format(select.value(\"LastKnownGood\").value()))\n",
    "\n",
    "# initalize variables\n",
    "ccs_dict = dict()\n",
    "lastknown_dict = dict()\n",
    "usb_diff = dict()\n",
    "val_diff = dict()\n",
    "\n",
    "# Collect data from ControlSet001\n",
    "for sub in ccs.subkeys():\n",
    "    l = list()\n",
    "    for val in sub.subkeys():\n",
    "        # Get serial numbers of USBS\n",
    "        l.append(val.name())\n",
    "        \n",
    "    ccs_dict[sub.name()] = l\n",
    "\n",
    "# Collect data from ControlSet003\n",
    "for sub in lastknown.subkeys():\n",
    "    l = list()\n",
    "    for val in sub.subkeys():\n",
    "        # Get serial numbers of USBS\n",
    "        l.append(val.name())\n",
    "        \n",
    "    lastknown_dict[sub.name()] = l\n",
    "\n",
    "# Perform comparison \n",
    "for usb1 in ccs_dict.keys():\n",
    "    if usb1 not in lastknown_dict.keys():\n",
    "        usb_diff[usb1] = ccs_dict[usb1]\n",
    "\n",
    "# Print output\n",
    "import pprint\n",
    "print(\"======== Different USBs ========\")\n",
    "pprint.pprint(usb_diff)\n",
    "print(\"======== ControlSet{:03d} - CurrentControlSet - All USBs =========\".format(select.value(\"Current\").value()))\n",
    "pprint.pprint(ccs_dict)\n",
    "print(\"======== ControlSet{:03d} - LastKnownGood - All USBs =========\".format(select.value(\"LastKnownGood\").value()))\n",
    "pprint.pprint(lastknown_dict)"
   ]
  },
  {
   "cell_type": "markdown",
   "metadata": {},
   "source": [
    "# What's Next?\n",
    "\n",
    "Now that the basics of registry parsing are complete, try to built a small tool that reads data from the registry and produces a report! Here are a few ideas to get started:\n",
    "\n",
    "- USB Reporter\n",
    "- MRU Parsing\n",
    "- System Information Report (ie. Timezones, OS info, etc.)\n",
    "- RunKey data\n",
    "- Installed Applications\n",
    "- Timelining the last written timestamps\n",
    "\n",
    "There is a plethora of research out there about the Registry - take something that interests you and develop a tool around it to help in your investigations (and share it with the community)!"
   ]
  }
 ],
 "metadata": {
  "kernelspec": {
   "display_name": "Python 3",
   "language": "python",
   "name": "python3"
  },
  "language_info": {
   "codemirror_mode": {
    "name": "ipython",
    "version": 3
   },
   "file_extension": ".py",
   "mimetype": "text/x-python",
   "name": "python",
   "nbconvert_exporter": "python",
   "pygments_lexer": "ipython3",
   "version": "3.5.1"
  }
 },
 "nbformat": 4,
 "nbformat_minor": 1
}
